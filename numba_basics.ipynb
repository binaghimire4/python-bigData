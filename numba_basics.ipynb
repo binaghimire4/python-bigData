{
  "cells": [
    {
      "cell_type": "markdown",
      "metadata": {
        "id": "l6LLkhjznmUz"
      },
      "source": [
        "# Numba\n",
        "- Uses just-in-time compilation to speed up certain calculations. It takes your function and converts to a machine code with LLVM library. The machine code is being executed whenever you call the function. Note: LLVM is not an acronym, it is the actual name of the project. \n",
        "- The main appraoch is to use numba.vectorize and numba.jit() decorator. Decorators modify a function in a uniform way. \n",
        "- Numba can parallelize a function on a single machine with multiple CPUs or GPUs. "
      ]
    },
    {
      "cell_type": "markdown",
      "metadata": {
        "id": "VJh-5j-pnmU5"
      },
      "source": [
        "### Process vs Threads\n",
        "<img src=\" https://raw.github.com/dmbala/python-bigData/main/Figures/ThreadDiagram.png\" width=400 height=400>"
      ]
    },
    {
      "cell_type": "markdown",
      "metadata": {
        "id": "fQ-NpwSEnmU6"
      },
      "source": [
        "\n",
        "| Process                           | Threads |\n",
        "|:----------------------------------| :---------------------------------- |\n",
        "| Execution of a program            |A segment of a process (part of the code execution)              |\n",
        "| More time to create or terminate  |  Less time for create or terminate  |\n",
        "| Isolated                          |  Shares memory                      |\n"
      ]
    },
    {
      "cell_type": "markdown",
      "metadata": {
        "id": "JD08JAr6nmU7"
      },
      "source": [
        "## Decorators\n",
        "- Dynamically alters a function or method\n",
        "- Applies the symbol \"@\" in front of a function\n",
        "- A function 'f' can be vectorized with @numba.vectoroize decorator\n",
        "- A serial function can be parallelized with @numba.jit decorator"
      ]
    },
    {
      "cell_type": "markdown",
      "metadata": {
        "id": "aj9F5YuwnmU7"
      },
      "source": [
        "## Vectorizing a function\n",
        "**Example: Evaluate polynomial function in an array**"
      ]
    },
    {
      "cell_type": "code",
      "execution_count": 66,
      "metadata": {
        "colab": {
          "base_uri": "https://localhost:8080/",
          "height": 35
        },
        "id": "LakLLQ4gnmU8",
        "outputId": "eb7c431a-5c42-45b4-bf88-082e50f4bf94"
      },
      "outputs": [
        {
          "output_type": "execute_result",
          "data": {
            "text/plain": [
              "'0.56.4'"
            ],
            "application/vnd.google.colaboratory.intrinsic+json": {
              "type": "string"
            }
          },
          "metadata": {},
          "execution_count": 66
        }
      ],
      "source": [
        "#Import relevant packages\n",
        "import numpy as np\n",
        "import numba\n",
        "from numba import njit\n",
        "from numba import jit\n",
        "import time\n",
        "numba.__version__"
      ]
    },
    {
      "cell_type": "markdown",
      "metadata": {
        "id": "zgXg0LAcnmU9"
      },
      "source": [
        "Products are vectorized function in NumPy. Here is the NumPy approach."
      ]
    },
    {
      "cell_type": "code",
      "execution_count": 31,
      "metadata": {
        "colab": {
          "base_uri": "https://localhost:8080/"
        },
        "id": "qIn7Ey3AnmU-",
        "outputId": "8a6b37e2-4cb0-4cbe-90eb-971f3845e6c6"
      },
      "outputs": [
        {
          "output_type": "stream",
          "name": "stdout",
          "text": [
            "Time for executing numpy vectorized function\n",
            "621 µs ± 11.4 µs per loop (mean ± std. dev. of 7 runs, 1000 loops each)\n"
          ]
        }
      ],
      "source": [
        "x = np.arange(int(1e4))\n",
        "print(\"Time for executing numpy vectorized function\")\n",
        "%timeit x**3.0 + x**2.0"
      ]
    },
    {
      "cell_type": "markdown",
      "metadata": {
        "id": "Eg6K6CelnmVA"
      },
      "source": [
        "Lets pretent that NumPy does not have a vectorized universal function for the cubic function. Here is the python way of writing a loop. "
      ]
    },
    {
      "cell_type": "code",
      "source": [
        "import math\n",
        "def cubic_func(x):\n",
        "  x_list = []\n",
        "  for ix in x:\n",
        "    x_list.append(ix**3.0 + ix**2.0)\n",
        "  return np.array(x_list)\n",
        "\n",
        "\n",
        "print(\"Time for executing non vectorized function\")\n",
        "%timeit cubic_func(x)"
      ],
      "metadata": {
        "colab": {
          "base_uri": "https://localhost:8080/"
        },
        "id": "jDy8WVQvoRwY",
        "outputId": "113da6ec-b1df-4be9-f726-a1757ef421ef"
      },
      "execution_count": 26,
      "outputs": [
        {
          "output_type": "stream",
          "name": "stdout",
          "text": [
            "Time for executing non vectorized math.sqrt\n",
            "4.62 ms ± 57.6 µs per loop (mean ± std. dev. of 7 runs, 100 loops each)\n"
          ]
        }
      ]
    },
    {
      "cell_type": "markdown",
      "metadata": {
        "id": "mgcYRJgPnmVB"
      },
      "source": [
        "Here is Numba way to vectorize a function, just use the decorator @numba.vectorize. This is how we create our own universal functions. "
      ]
    },
    {
      "cell_type": "code",
      "execution_count": 32,
      "metadata": {
        "colab": {
          "base_uri": "https://localhost:8080/"
        },
        "id": "FuTCVeuDnmVB",
        "outputId": "6965811f-1f89-4dd2-861c-9833c681c2d5"
      },
      "outputs": [
        {
          "output_type": "stream",
          "name": "stdout",
          "text": [
            "Time for executing  @numba.vectorize\n",
            "12 µs ± 7.77 µs per loop (mean ± std. dev. of 7 runs, 1 loop each)\n"
          ]
        }
      ],
      "source": [
        "@numba.vectorize\n",
        "def numba_cubic_func(x):\n",
        "  return x**3 + x**2\n",
        "print(\"Time for executing  @numba.vectorize\")\n",
        "%timeit numba_cubic_func(x)"
      ]
    },
    {
      "cell_type": "markdown",
      "metadata": {
        "id": "xS2xNgVUnmVC"
      },
      "source": [
        "### Python Decorator"
      ]
    },
    {
      "cell_type": "code",
      "execution_count": 35,
      "metadata": {
        "id": "nvQzog8LnmVC"
      },
      "outputs": [],
      "source": [
        "# A simple hello world function\n",
        "def hello():\n",
        "  print('Hello world')"
      ]
    },
    {
      "cell_type": "code",
      "execution_count": null,
      "metadata": {
        "id": "mO8n2wOLnmVD",
        "outputId": "c72ed5dc-8ab6-48d5-8ec2-9d79f62b5ed8"
      },
      "outputs": [
        {
          "name": "stdout",
          "output_type": "stream",
          "text": [
            "Hello world\n"
          ]
        }
      ],
      "source": [
        "hello()"
      ]
    },
    {
      "cell_type": "code",
      "execution_count": 33,
      "metadata": {
        "id": "jgccEDsAnmVD"
      },
      "outputs": [],
      "source": [
        "# Write a function which takes a function as an argument and returns another function. \n",
        "def hello_interactive(func): \n",
        "  def wrapper():\n",
        "    while 1:\n",
        "      res = input('are you sure you want to greet? [y/n]')\n",
        "      if res=='n':\n",
        "        return\n",
        "      elif res=='y':\n",
        "        func()\n",
        "        return\n",
        "  return wrapper  "
      ]
    },
    {
      "cell_type": "code",
      "execution_count": 36,
      "metadata": {
        "colab": {
          "base_uri": "https://localhost:8080/"
        },
        "id": "c1gAqFZknmVE",
        "outputId": "8948e130-ec38-4389-cfcc-bd756ff3587b"
      },
      "outputs": [
        {
          "output_type": "stream",
          "name": "stdout",
          "text": [
            "<class 'function'>\n",
            "are you sure you want to greet? [y/n]y\n",
            "Hello world\n",
            "None\n"
          ]
        }
      ],
      "source": [
        "result_function = hello_interactive(hello)\n",
        "print(type(result_function))\n",
        "print(result_function())"
      ]
    },
    {
      "cell_type": "markdown",
      "metadata": {
        "id": "oapmCPtKnmVF"
      },
      "source": [
        "Now lets use the above function of function to decorate the hello function. Decorator looks nice, compact, and wrapes th hello function."
      ]
    },
    {
      "cell_type": "code",
      "execution_count": 37,
      "metadata": {
        "colab": {
          "base_uri": "https://localhost:8080/"
        },
        "id": "w75KIq-BnmVF",
        "outputId": "64380f4a-fc48-4b3c-a0c7-b39617592ad1"
      },
      "outputs": [
        {
          "output_type": "stream",
          "name": "stdout",
          "text": [
            "are you sure you want to greet? [y/n]y\n",
            "Hello world\n"
          ]
        }
      ],
      "source": [
        "@hello_interactive\n",
        "def hello():\n",
        "  print('Hello world')\n",
        "  \n",
        "hello()"
      ]
    },
    {
      "cell_type": "markdown",
      "metadata": {
        "id": "g70ENTy5nmVF"
      },
      "source": [
        "### Numba Parallelism with @jit decorator\n",
        "How to improve the performance of lloops? \n",
        "1. Vectorization\n",
        "2. Parallelization"
      ]
    },
    {
      "cell_type": "markdown",
      "metadata": {
        "id": "qpXkFsPnnmVG"
      },
      "source": [
        "### Example: Monte Carlo PI estimate"
      ]
    },
    {
      "cell_type": "markdown",
      "source": [
        "<img src=\"https://raw.githubusercontent.com/dmbala/python-bigData/main/Figures/pi-est.png\" width=400 height=400>"
      ],
      "metadata": {
        "id": "Uym-SQ2fwRL_"
      }
    },
    {
      "cell_type": "code",
      "execution_count": 39,
      "metadata": {
        "id": "9nmY-I9VnmVG"
      },
      "outputs": [],
      "source": [
        "import random\n",
        "\n",
        "# Serial version\n",
        "def monte_carlo_pi_serial(nsamples):\n",
        "    acc = 0\n",
        "    for i in range(nsamples):\n",
        "        x = random.random()\n",
        "        y = random.random()\n",
        "        if (x**2 + y**2) < 1.0:\n",
        "            acc += 1\n",
        "    return 4.0 * acc / nsamples\n",
        "\n",
        "# Parallel version - Explicit with numba.prange \n",
        "@jit(nopython=True, parallel=True, nogil=True)\n",
        "def monte_carlo_pi_explicit_parallel(nsamples):\n",
        "    acc = 0\n",
        "    # Only change is applying prange() function. \n",
        "    #for i in range(nsamples):\n",
        "    for i in numba.prange(nsamples):\n",
        "        x = random.random()\n",
        "        y = random.random()\n",
        "        if (x**2 + y**2) < 1.0:\n",
        "            acc += 1\n",
        "    return 4.0 * acc / nsamples"
      ]
    },
    {
      "cell_type": "code",
      "execution_count": 40,
      "metadata": {
        "scrolled": true,
        "colab": {
          "base_uri": "https://localhost:8080/"
        },
        "id": "LjuaOW0-nmVG",
        "outputId": "e7010437-28cf-4412-89c3-ac3e9fa3a78a"
      },
      "outputs": [
        {
          "output_type": "stream",
          "name": "stdout",
          "text": [
            "Time for running monte_carlo_pi_serial\n",
            "CPU times: user 34.2 s, sys: 68.2 ms, total: 34.3 s\n",
            "Wall time: 34.3 s\n"
          ]
        },
        {
          "output_type": "execute_result",
          "data": {
            "text/plain": [
              "3.14184928"
            ]
          },
          "metadata": {},
          "execution_count": 40
        }
      ],
      "source": [
        "print(\"Time for running monte_carlo_pi_serial\")\n",
        "%time monte_carlo_pi_serial(int(1e8))"
      ]
    },
    {
      "cell_type": "code",
      "execution_count": 41,
      "metadata": {
        "colab": {
          "base_uri": "https://localhost:8080/"
        },
        "id": "K82Mw_u6nmVH",
        "outputId": "0e1b4315-97c5-4ff3-94eb-837820384b39"
      },
      "outputs": [
        {
          "output_type": "stream",
          "name": "stdout",
          "text": [
            "Time for running monte_carlo_pi_explicit_parallel\n",
            "CPU times: user 2.7 s, sys: 11.7 ms, total: 2.71 s\n",
            "Wall time: 1.78 s\n"
          ]
        },
        {
          "output_type": "execute_result",
          "data": {
            "text/plain": [
              "3.14160732"
            ]
          },
          "metadata": {},
          "execution_count": 41
        }
      ],
      "source": [
        "print(\"Time for running monte_carlo_pi_explicit_parallel\")\n",
        "%time monte_carlo_pi_explicit_parallel(int(1e8))"
      ]
    },
    {
      "cell_type": "markdown",
      "source": [
        "## Handling Number of Threads"
      ],
      "metadata": {
        "id": "D84Oiuvt5sGG"
      }
    },
    {
      "cell_type": "code",
      "execution_count": 42,
      "metadata": {
        "colab": {
          "base_uri": "https://localhost:8080/"
        },
        "id": "N3dldu34nmVH",
        "outputId": "f82ac1f3-9e88-4ce3-d10d-64e27429f682"
      },
      "outputs": [
        {
          "output_type": "stream",
          "name": "stdout",
          "text": [
            "2\n"
          ]
        }
      ],
      "source": [
        "print(numba.config.NUMBA_NUM_THREADS)"
      ]
    },
    {
      "cell_type": "code",
      "source": [
        "from numba import set_num_threads,get_num_threads\n",
        "import multiprocessing\n",
        "ncpus = multiprocessing.cpu_count()\n",
        "print(ncpus)\n",
        "\n",
        "print(get_num_threads())\n",
        "set_num_threads(1)\n",
        "print(get_num_threads())"
      ],
      "metadata": {
        "colab": {
          "base_uri": "https://localhost:8080/"
        },
        "id": "7xCtIBPLw-TB",
        "outputId": "c42c7972-7431-4724-e2a3-6e7b3364bc16"
      },
      "execution_count": 50,
      "outputs": [
        {
          "output_type": "stream",
          "name": "stdout",
          "text": [
            "2\n",
            "1\n",
            "1\n"
          ]
        }
      ]
    },
    {
      "cell_type": "code",
      "source": [
        "for i in prange(ncpus):\n",
        "  set_num_threads(i+1)\n",
        "  print(\"Time for running monte_carlo_pi_explicit_parallel for threads\", get_num_threads())\n",
        "  %time monte_carlo_pi_explicit_parallel(int(1e8))"
      ],
      "metadata": {
        "colab": {
          "base_uri": "https://localhost:8080/"
        },
        "id": "qGTRaDcnyDYt",
        "outputId": "3a47045d-3921-466b-dc42-10dcdc6dd7a4"
      },
      "execution_count": 88,
      "outputs": [
        {
          "output_type": "stream",
          "name": "stdout",
          "text": [
            "Time for running monte_carlo_pi_explicit_parallel for threads 1\n",
            "CPU times: user 1.07 s, sys: 2.9 ms, total: 1.07 s\n",
            "Wall time: 1.07 s\n",
            "Time for running monte_carlo_pi_explicit_parallel for threads 2\n",
            "CPU times: user 1.98 s, sys: 1.8 ms, total: 1.98 s\n",
            "Wall time: 1.01 s\n"
          ]
        }
      ]
    },
    {
      "cell_type": "markdown",
      "source": [
        "## Parallel Diagnostics"
      ],
      "metadata": {
        "id": "EMoP3L855xeN"
      }
    },
    {
      "cell_type": "code",
      "source": [
        "\n",
        "monte_carlo_pi_explicit_parallel.parallel_diagnostics(level=4)"
      ],
      "metadata": {
        "colab": {
          "base_uri": "https://localhost:8080/"
        },
        "id": "0jg1OTsG2RU_",
        "outputId": "c540c50f-2410-4eb0-d389-2c9d195f479c"
      },
      "execution_count": 75,
      "outputs": [
        {
          "output_type": "stream",
          "name": "stdout",
          "text": [
            " \n",
            "================================================================================\n",
            " Parallel Accelerator Optimizing:  Function monte_carlo_pi_explicit_parallel, \n",
            "<ipython-input-39-a415a36a2843> (14)  \n",
            "================================================================================\n",
            "\n",
            "\n",
            "Parallel loop listing for  Function monte_carlo_pi_explicit_parallel, <ipython-input-39-a415a36a2843> (14) \n",
            "-----------------------------------------------------|loop #ID\n",
            "@jit(nopython=True, parallel=True, nogil=True)       | \n",
            "def monte_carlo_pi_explicit_parallel(nsamples):      | \n",
            "    acc = 0                                          | \n",
            "    # Only change is applying prange() function.     | \n",
            "    #for i in range(nsamples):                       | \n",
            "    for i in numba.prange(nsamples):-----------------| #0\n",
            "        x = random.random()                          | \n",
            "        y = random.random()                          | \n",
            "        if (x**2 + y**2) < 1.0:                      | \n",
            "            acc += 1                                 | \n",
            "    return 4.0 * acc / nsamples                      | \n",
            "--------------------------------- Fusing loops ---------------------------------\n",
            "Attempting fusion of parallel loops (combines loops with similar properties)...\n",
            "----------------------------- Before Optimisation ------------------------------\n",
            "--------------------------------------------------------------------------------\n",
            "------------------------------ After Optimisation ------------------------------\n",
            "Parallel structure is already optimal.\n",
            "--------------------------------------------------------------------------------\n",
            "--------------------------------------------------------------------------------\n",
            " \n",
            "---------------------------Loop invariant code motion---------------------------\n",
            "Allocation hoisting:\n",
            "No allocation hoisting found\n",
            "\n",
            "Instruction hoisting:\n",
            "loop #0:\n",
            "  Has the following hoisted:\n",
            "    $const60.2 = const(int, 1)\n",
            "    $const40.9 = const(int, 2)\n",
            "    $const46.12 = const(int, 2)\n",
            "    $const52.15 = const(float, 1.0)\n",
            "    bool56 = global(bool: <class 'bool'>)\n",
            "  Failed to hoist the following:\n",
            "    dependency: $acc.3.13 = inplace_binop(fn=<built-in function iadd>, immutable_fn=<built-in function add>, lhs=acc_2.2, rhs=$const60.2, static_lhs=Undefined, static_rhs=Undefined)\n",
            "    dependency: acc_2 = acc.3\n",
            "    dependency: $24load_method.3 = getattr(value=$22load_global.2, attr=random)\n",
            "    dependency: x = call $24load_method.3(func=$24load_method.3, args=[], kws=(), vararg=None, varkwarg=None, target=None)\n",
            "    dependency: $32load_method.6 = getattr(value=$30load_global.5, attr=random)\n",
            "    dependency: y = call $32load_method.6(func=$32load_method.6, args=[], kws=(), vararg=None, varkwarg=None, target=None)\n",
            "    dependency: $42binary_power.10 = x ** $const40.9\n",
            "    dependency: $48binary_power.13 = y ** $const46.12\n",
            "    dependency: $50binary_add.14 = $42binary_power.10 + $48binary_power.13\n",
            "    dependency: $54compare_op.16 = $50binary_add.14 < $const52.15\n",
            "    dependency: $56pred = call $push_global_to_block.59($54compare_op.16, func=$push_global_to_block.59, args=(Var($54compare_op.16, <ipython-input-39-a415a36a2843>:22),), kws=(), vararg=None, varkwarg=None, target=None)\n",
            "--------------------------------------------------------------------------------\n"
          ]
        }
      ]
    },
    {
      "cell_type": "code",
      "source": [
        "@njit(parallel=True)\n",
        "def check_parallel(x):\n",
        "    n = x.shape[0]\n",
        "    a = np.sin(x)\n",
        "    b = np.cos(a * a)\n",
        "    acc = 0\n",
        "    for i in prange(n - 2):\n",
        "        for j in prange(n - 1):\n",
        "            acc += b[i] + b[j + 1]\n",
        "    return acc\n",
        "\n",
        "check_parallel(np.arange(10))\n",
        "\n",
        "check_parallel.parallel_diagnostics(level=4)"
      ],
      "metadata": {
        "colab": {
          "base_uri": "https://localhost:8080/"
        },
        "id": "0NN2nVhB4J15",
        "outputId": "c14458bb-3b40-427c-a23f-7ad84039defd"
      },
      "execution_count": 89,
      "outputs": [
        {
          "output_type": "stream",
          "name": "stdout",
          "text": [
            " \n",
            "================================================================================\n",
            " Parallel Accelerator Optimizing:  Function check_parallel, <ipython-\n",
            "input-89-dd015b06c4e1> (1)  \n",
            "================================================================================\n",
            "\n",
            "\n",
            "Parallel loop listing for  Function check_parallel, <ipython-input-89-dd015b06c4e1> (1) \n",
            "--------------------------------------|loop #ID\n",
            "@njit(parallel=True)                  | \n",
            "def check_parallel(x):                | \n",
            "    n = x.shape[0]                    | \n",
            "    a = np.sin(x)---------------------| #6\n",
            "    b = np.cos(a * a)-----------------| #7\n",
            "    acc = 0                           | \n",
            "    for i in prange(n - 2):-----------| #9\n",
            "        for j in prange(n - 1):-------| #8\n",
            "            acc += b[i] + b[j + 1]    | \n",
            "    return acc                        | \n",
            "--------------------------------- Fusing loops ---------------------------------\n",
            "Attempting fusion of parallel loops (combines loops with similar properties)...\n",
            "  Trying to fuse loops #6 and #7:\n",
            "    - fusion succeeded: parallel for-loop #7 is fused into for-loop #6.\n",
            "  Trying to fuse loops #6 and #9:\n",
            "    - fusion failed: loop dimension mismatched in axis 0. slice(0, x_size0.329, \n",
            "1) != slice(0, $48binary_subtract.3, 1)\n",
            "----------------------------- Before Optimisation ------------------------------\n",
            "Parallel region 0:\n",
            "+--6 (parallel)\n",
            "+--7 (parallel)\n",
            "\n",
            "\n",
            "Parallel region 1:\n",
            "+--9 (parallel)\n",
            "   +--8 (parallel)\n",
            "\n",
            "\n",
            "--------------------------------------------------------------------------------\n",
            "------------------------------ After Optimisation ------------------------------\n",
            "Parallel region 0:\n",
            "+--6 (parallel, fused with loop(s): 7)\n",
            "\n",
            "\n",
            "Parallel region 1:\n",
            "+--9 (parallel)\n",
            "   +--8 (serial)\n",
            "\n",
            "\n",
            " \n",
            "Parallel region 0 (loop #6) had 1 loop(s) fused.\n",
            " \n",
            "Parallel region 1 (loop #9) had 0 loop(s) fused and 1 loop(s) serialized as part\n",
            " of the larger parallel loop (#9).\n",
            "--------------------------------------------------------------------------------\n",
            "--------------------------------------------------------------------------------\n",
            " \n",
            "---------------------------Loop invariant code motion---------------------------\n",
            "Allocation hoisting:\n",
            "No allocation hoisting found\n",
            "\n",
            "Instruction hoisting:\n",
            "loop #6:\n",
            "  Failed to hoist the following:\n",
            "    dependency: $arg_out_var.338 = getitem(value=x, index=$parfor__index_333.459, fn=<built-in function getitem>)\n",
            "    dependency: $14load_method.5.339 = getattr(value=$push_global_to_block.418, attr=sin)\n",
            "    dependency: $expr_out_var.337 = call $14load_method.5.339($arg_out_var.338, func=$14load_method.5.339, args=[Var($arg_out_var.338, <ipython-input-89-dd015b06c4e1>:4)], kws=(), vararg=None, varkwarg=None, target=None)\n",
            "    dependency: $arg_out_var.345 = $expr_out_var.337 * $expr_out_var.337\n",
            "    dependency: $24load_method.9.348 = getattr(value=$push_global_to_block.419, attr=cos)\n",
            "    dependency: $expr_out_var.344 = call $24load_method.9.348($arg_out_var.345, func=$24load_method.9.348, args=[Var($arg_out_var.345, <ipython-input-89-dd015b06c4e1>:5)], kws=(), vararg=None, varkwarg=None, target=None)\n",
            "loop #9:\n",
            "  Has the following hoisted:\n",
            "    $const64.3 = const(int, 1)\n",
            "    $66binary_subtract.4 = n - $const64.3\n",
            "  Failed to hoist the following:\n",
            "    dependency: acc_3 = acc.2\n",
            "--------------------------------------------------------------------------------\n"
          ]
        }
      ]
    },
    {
      "cell_type": "markdown",
      "source": [
        "## Numba for node level parallelism"
      ],
      "metadata": {
        "id": "D4nOZoQN6fks"
      }
    },
    {
      "cell_type": "code",
      "source": [
        "from dask import delayed\n",
        "@delayed\n",
        "def mean(*args):\n",
        "  return sum(args) / len(args)\n",
        "# Call calc_pi_nogil 10 times with N = 10 million\n",
        "x = mean(*(delayed(monte_carlo_pi_explicit_parallel)(10**7) for i in range(10)))"
      ],
      "metadata": {
        "id": "g1Fy9Not5bVx"
      },
      "execution_count": 90,
      "outputs": []
    },
    {
      "cell_type": "code",
      "source": [
        "x.visualize()"
      ],
      "metadata": {
        "colab": {
          "base_uri": "https://localhost:8080/",
          "height": 209
        },
        "id": "B7QHC3kR6DMM",
        "outputId": "73b54c37-ae5d-4320-e291-8d701d395894"
      },
      "execution_count": 91,
      "outputs": [
        {
          "output_type": "execute_result",
          "data": {
            "image/png": "[encoded data removed]",
            "text/plain": [
              "<IPython.core.display.Image object>"
            ]
          },
          "metadata": {},
          "execution_count": 91
        }
      ]
    },
    {
      "cell_type": "code",
      "source": [
        "%timeit x.compute()"
      ],
      "metadata": {
        "colab": {
          "base_uri": "https://localhost:8080/"
        },
        "id": "9lcbaIMG6Npl",
        "outputId": "37fc6406-f8b2-4edf-fa58-9f0685e7943a"
      },
      "execution_count": 93,
      "outputs": [
        {
          "output_type": "stream",
          "name": "stdout",
          "text": [
            "1.03 s ± 8.31 ms per loop (mean ± std. dev. of 7 runs, 1 loop each)\n"
          ]
        }
      ]
    },
    {
      "cell_type": "markdown",
      "metadata": {
        "id": "4pkjeWranmVH"
      },
      "source": [
        "Numba uses all the available cores by default. Set the shell variable NUMBA_NUM_THREADS before starting the notebook. Dask has fine grained control on threads and processes. "
      ]
    },
    {
      "cell_type": "markdown",
      "metadata": {
        "id": "xAhHXkV8nmVI"
      },
      "source": [
        "## Summary\n",
        "- Numba can easily parallelize a function with JIT\n",
        "- In a loop, do the explicit parallelism with numba.prange\n",
        "- Functions can be parallelized to run on GPU hardware (Cuda JIT, not covered)"
      ]
    }
  ],
  "metadata": {
    "celltoolbar": "Slideshow",
    "kernelspec": {
      "display_name": "Python 3",
      "language": "python",
      "name": "python3"
    },
    "language_info": {
      "codemirror_mode": {
        "name": "ipython",
        "version": 3
      },
      "file_extension": ".py",
      "mimetype": "text/x-python",
      "name": "python",
      "nbconvert_exporter": "python",
      "pygments_lexer": "ipython3",
      "version": "3.8.6"
    },
    "colab": {
      "provenance": []
    }
  },
  "nbformat": 4,
  "nbformat_minor": 0
}