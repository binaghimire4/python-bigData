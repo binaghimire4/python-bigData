{
 "cells": [
  {
   "cell_type": "markdown",
   "metadata": {
    "slideshow": {
     "slide_type": "slide"
    }
   },
   "source": [
    "# Numba\n",
    "- Uses just-in-time compilation to speed up certain calculations. It takes your function and converts to a machine code with LLVM library. The machine code is being executed whenever you call the function. Note: LLVM is not an acronym, it is the actual name of the project. \n",
    "- The main appraoch is to use numba.vectorize and numba.jit() decorator. Decorators modify a function in a uniform way. \n",
    "- Numba can parallelize a function on a single machine with multiple CPUs or GPUs. "
   ]
  },
  {
   "attachments": {
    "image.png": {
     "image/png": "[encoded data removed]"
    }
   },
   "cell_type": "markdown",
   "metadata": {
    "slideshow": {
     "slide_type": "slide"
    }
   },
   "source": [
    "### Process vs Threads\n",
    "![image.png](attachment:image.png)"
   ]
  },
  {
   "cell_type": "markdown",
   "metadata": {
    "slideshow": {
     "slide_type": "-"
    }
   },
   "source": [
    "\n",
    "| Process                           | Threads |\n",
    "|:----------------------------------| :---------------------------------- |\n",
    "| Execution of a program            |A segment of a process (part of the code execution)              |\n",
    "| More time to create or terminate  |  Less time for create or terminate  |\n",
    "| Isolated                          |  Shares memory                      |\n"
   ]
  },
  {
   "cell_type": "markdown",
   "metadata": {
    "slideshow": {
     "slide_type": "slide"
    }
   },
   "source": [
    "## Decorators\n",
    "- Dynamically alters a function or method\n",
    "- Applies the symbol \"@\" in front of a function\n",
    "- A function 'f' can be vectorized with @numba.vectoroize decorator\n",
    "- A serial function can be parallelized with @numba.jit decorator"
   ]
  },
  {
   "cell_type": "markdown",
   "metadata": {
    "slideshow": {
     "slide_type": "slide"
    }
   },
   "source": [
    "## Vectorizing a function\n",
    "**Example: Find the square root of the elements in an array**"
   ]
  },
  {
   "cell_type": "code",
   "execution_count": null,
   "metadata": {},
   "outputs": [],
   "source": [
    "#Import relevant packages\n",
    "import numpy as np\n",
    "import numba\n",
    "from numba import njit\n",
    "from numba import jit\n",
    "import time\n",
    "numba.__version__"
   ]
  },
  {
   "cell_type": "markdown",
   "metadata": {
    "slideshow": {
     "slide_type": "slide"
    }
   },
   "source": [
    "The square root is a vectorized function in NumPy. Here is the NumPy approach."
   ]
  },
  {
   "cell_type": "code",
   "execution_count": 12,
   "metadata": {
    "slideshow": {
     "slide_type": "fragment"
    }
   },
   "outputs": [
    {
     "name": "stdout",
     "output_type": "stream",
     "text": [
      "Time for executing np.sqrt(x)\n",
      "1.29 ms ± 997 ns per loop (mean ± std. dev. of 7 runs, 1000 loops each)\n"
     ]
    }
   ],
   "source": [
    "x = np.arange(int(1e6))\n",
    "print(\"Time for executing np.sqrt(x)\")\n",
    "%timeit np.sqrt(x)"
   ]
  },
  {
   "cell_type": "markdown",
   "metadata": {
    "slideshow": {
     "slide_type": "fragment"
    }
   },
   "source": [
    "Lets pretent that NumPy does not have a vectorized universal function for square root. Here is the python way of writing a loop. "
   ]
  },
  {
   "cell_type": "code",
   "execution_count": 14,
   "metadata": {
    "slideshow": {
     "slide_type": "fragment"
    }
   },
   "outputs": [
    {
     "name": "stdout",
     "output_type": "stream",
     "text": [
      "Time for executing math.sqrt(x)\n",
      "168 ms ± 218 µs per loop (mean ± std. dev. of 7 runs, 10 loops each)\n"
     ]
    }
   ],
   "source": [
    "import math\n",
    "print(\"Time for executing math.sqrt(x)\")\n",
    "%timeit [math.sqrt(xx) for xx in x]"
   ]
  },
  {
   "cell_type": "markdown",
   "metadata": {
    "slideshow": {
     "slide_type": "fragment"
    }
   },
   "source": [
    "Here is Numba way to vectorize a function, just use the decorator @numba.vectorize. This is how we create our own universal functions. "
   ]
  },
  {
   "cell_type": "code",
   "execution_count": 15,
   "metadata": {
    "slideshow": {
     "slide_type": "fragment"
    }
   },
   "outputs": [
    {
     "name": "stdout",
     "output_type": "stream",
     "text": [
      "Time for executing  @numba.vectorize (cpu_sqrt)\n",
      "843 µs ± 7.7 µs per loop (mean ± std. dev. of 7 runs, 1000 loops each)\n"
     ]
    }
   ],
   "source": [
    "@numba.vectorize\n",
    "def numba_sqrt(x):\n",
    "  return math.sqrt(x)\n",
    "print(\"Time for executing  @numba.vectorize (cpu_sqrt)\")\n",
    "%timeit numba_sqrt(x)"
   ]
  },
  {
   "cell_type": "markdown",
   "metadata": {},
   "source": [
    "### Decorator - a simple example"
   ]
  },
  {
   "cell_type": "code",
   "execution_count": 1,
   "metadata": {},
   "outputs": [],
   "source": [
    "# A simple hello world function\n",
    "def hello():\n",
    "  print('Hello world')"
   ]
  },
  {
   "cell_type": "code",
   "execution_count": 2,
   "metadata": {},
   "outputs": [
    {
     "name": "stdout",
     "output_type": "stream",
     "text": [
      "Hello world\n"
     ]
    }
   ],
   "source": [
    "hello()"
   ]
  },
  {
   "cell_type": "code",
   "execution_count": 3,
   "metadata": {},
   "outputs": [],
   "source": [
    "# Write a function which takes a function as an argument and returns another function. \n",
    "def make_sure(func): \n",
    "  def wrapper():\n",
    "    while 1:\n",
    "      res = input('are you sure you want to greet? [y/n]')\n",
    "      if res=='n':\n",
    "        return\n",
    "      elif res=='y':\n",
    "        func()\n",
    "        return\n",
    "  return wrapper  "
   ]
  },
  {
   "cell_type": "code",
   "execution_count": 4,
   "metadata": {},
   "outputs": [
    {
     "name": "stdout",
     "output_type": "stream",
     "text": [
      "<class 'function'>\n",
      "are you sure you want to greet the world? [y/n]y\n",
      "Hello world\n",
      "None\n"
     ]
    }
   ],
   "source": [
    "result_function = make_sure(hello)\n",
    "print(type(result_function))\n",
    "print(result_function())"
   ]
  },
  {
   "cell_type": "markdown",
   "metadata": {},
   "source": [
    "Now lets use the above function of function to decorate the hello function. Decorator looks nice, compact, and wrapes th hello function."
   ]
  },
  {
   "cell_type": "code",
   "execution_count": 5,
   "metadata": {},
   "outputs": [
    {
     "name": "stdout",
     "output_type": "stream",
     "text": [
      "are you sure you want to greet the world? [y/n]y\n",
      "Hello world\n"
     ]
    }
   ],
   "source": [
    "@make_sure\n",
    "def hello():\n",
    "  print('Hello world')\n",
    "  \n",
    "hello()"
   ]
  },
  {
   "cell_type": "markdown",
   "metadata": {
    "slideshow": {
     "slide_type": "slide"
    }
   },
   "source": [
    "### Numba Parallelism with @jit decorator\n",
    "How to improve the performance of lloops? \n",
    "1. Vectorization\n",
    "2. Parallelization"
   ]
  },
  {
   "cell_type": "markdown",
   "metadata": {
    "slideshow": {
     "slide_type": "slide"
    }
   },
   "source": [
    "### Example: Monte Carlo PI estimate"
   ]
  },
  {
   "cell_type": "code",
   "execution_count": 23,
   "metadata": {
    "slideshow": {
     "slide_type": "-"
    }
   },
   "outputs": [],
   "source": [
    "import random\n",
    "\n",
    "# Serial version\n",
    "def monte_carlo_pi_serial(nsamples):\n",
    "    acc = 0\n",
    "    for i in range(nsamples):\n",
    "        x = random.random()\n",
    "        y = random.random()\n",
    "        if (x**2 + y**2) < 1.0:\n",
    "            acc += 1\n",
    "    return 4.0 * acc / nsamples\n",
    "\n",
    "# Parallel version - Explicit with numba.prange \n",
    "@jit(nopython=True, parallel=True, nogil=True)\n",
    "def monte_carlo_pi_explicit_parallel(nsamples):\n",
    "    acc = 0\n",
    "    # Only change is applying prange() function. \n",
    "    #for i in range(nsamples):\n",
    "    for i in numba.prange(nsamples):\n",
    "        x = random.random()\n",
    "        y = random.random()\n",
    "        if (x**2 + y**2) < 1.0:\n",
    "            acc += 1\n",
    "    return 4.0 * acc / nsamples"
   ]
  },
  {
   "cell_type": "code",
   "execution_count": 25,
   "metadata": {
    "scrolled": true,
    "slideshow": {
     "slide_type": "slide"
    }
   },
   "outputs": [
    {
     "name": "stdout",
     "output_type": "stream",
     "text": [
      "Time for running monte_carlo_pi_serial\n",
      "CPU times: user 26.2 s, sys: 1.02 ms, total: 26.2 s\n",
      "Wall time: 26.2 s\n"
     ]
    },
    {
     "data": {
      "text/plain": [
       "3.14191456"
      ]
     },
     "execution_count": 25,
     "metadata": {},
     "output_type": "execute_result"
    }
   ],
   "source": [
    "print(\"Time for running monte_carlo_pi_serial\")\n",
    "%time monte_carlo_pi_serial(int(1e8))"
   ]
  },
  {
   "cell_type": "code",
   "execution_count": 24,
   "metadata": {
    "slideshow": {
     "slide_type": "-"
    }
   },
   "outputs": [
    {
     "name": "stdout",
     "output_type": "stream",
     "text": [
      "Time for running monte_carlo_pi_explicit_parallel\n",
      "CPU times: user 2.26 s, sys: 410 ms, total: 2.67 s\n",
      "Wall time: 471 ms\n"
     ]
    },
    {
     "data": {
      "text/plain": [
       "3.14164812"
      ]
     },
     "execution_count": 24,
     "metadata": {},
     "output_type": "execute_result"
    }
   ],
   "source": [
    "print(\"Time for running monte_carlo_pi_explicit_parallel\")\n",
    "%time monte_carlo_pi_explicit_parallel(int(1e8))"
   ]
  },
  {
   "cell_type": "code",
   "execution_count": null,
   "metadata": {
    "slideshow": {
     "slide_type": "slide"
    }
   },
   "outputs": [],
   "source": [
    "print(numba.config.NUMBA_NUM_THREADS)"
   ]
  },
  {
   "cell_type": "markdown",
   "metadata": {
    "slideshow": {
     "slide_type": "-"
    }
   },
   "source": [
    "Numba uses all the available cores by default. Set the shell variable NUMBA_NUM_THREADS before starting the notebook. Dask has fine grained control on threads and processes. "
   ]
  },
  {
   "cell_type": "markdown",
   "metadata": {
    "slideshow": {
     "slide_type": "slide"
    }
   },
   "source": [
    "## Summary\n",
    "- Numba can easily parallelize a function with JIT\n",
    "- In a loop, do the explicit parallelism with numba.prange\n",
    "- Functions can be parallelized to run on GPU hardware (Cuda JIT, not covered)"
   ]
  }
 ],
 "metadata": {
  "celltoolbar": "Slideshow",
  "kernelspec": {
   "display_name": "Python 3",
   "language": "python",
   "name": "python3"
  },
  "language_info": {
   "codemirror_mode": {
    "name": "ipython",
    "version": 3
   },
   "file_extension": ".py",
   "mimetype": "text/x-python",
   "name": "python",
   "nbconvert_exporter": "python",
   "pygments_lexer": "ipython3",
   "version": "3.8.6"
  }
 },
 "nbformat": 4,
 "nbformat_minor": 4
}
