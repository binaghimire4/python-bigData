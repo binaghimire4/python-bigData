{
  "cells": [
    {
      "cell_type": "markdown",
      "metadata": {
        "id": "XN5DvYokLQvu"
      },
      "source": [
        "# Dask Delayed - Parallelism\n",
        "\n",
        "- Delays the execution of tasks.\n",
        "- Builds a task graph\n",
        "- Dask scheduler exploits the parallelism from the task graph\n",
        "- Useful for cases that don't fit with the collections"
      ]
    },
    {
      "cell_type": "code",
      "source": [
        "!pip install memory_profiler"
      ],
      "metadata": {
        "id": "yFasISeaN4by"
      },
      "execution_count": null,
      "outputs": []
    },
    {
      "cell_type": "code",
      "execution_count": null,
      "metadata": {
        "id": "yiqL-g29LQv2"
      },
      "outputs": [],
      "source": [
        "# Importing dask dataframe\n",
        "import dask\n",
        "import dask.delayed as delayed\n",
        "import time\n",
        "%load_ext memory_profiler\n",
        "dask.__version__"
      ]
    },
    {
      "cell_type": "markdown",
      "metadata": {
        "id": "lXuqXU1-LQv8"
      },
      "source": [
        "### Simple Example  \n",
        "\n",
        "Let us consider the following mathematical steps\n",
        "\n",
        "Increase the value by one\n",
        "\\begin{align}\n",
        " x & = x + 1\n",
        "\\end{align}\n",
        "Decrease the value by two\n",
        "\\begin{align}\n",
        " y & = y - 2\n",
        "\\end{align}\n",
        "Add two values\n",
        "\\begin{align}\n",
        " z & = x + y\n",
        "\\end{align}\n",
        "\n",
        "#### Task Order\n",
        "- x and y can be evaluated independently\n",
        "- z value depends on the evaluation of x and y"
      ]
    },
    {
      "cell_type": "code",
      "execution_count": null,
      "metadata": {
        "id": "y3YdOP_JLQv-"
      },
      "outputs": [],
      "source": [
        "# Define simple functions for increament, decrement, and add operations\n",
        "sleep_time = 1\n",
        "def inc(x):\n",
        "    time.sleep(sleep_time)\n",
        "    return x + 1\n",
        "\n",
        "def dec(x):\n",
        "    time.sleep(sleep_time)\n",
        "    return x - 1\n",
        "\n",
        "def add(x, y):\n",
        "    time.sleep(sleep_time)\n",
        "    return x + y"
      ]
    },
    {
      "cell_type": "markdown",
      "metadata": {
        "id": "8Q92wbOdLQv_"
      },
      "source": [
        "Serial task executions. Each function takes a second, so executing three functions in sequeence will take three seconds. "
      ]
    },
    {
      "cell_type": "code",
      "execution_count": null,
      "metadata": {
        "id": "YH8gWwPtLQv_"
      },
      "outputs": [],
      "source": [
        "%%time\n",
        "x = inc(1)\n",
        "y = dec(2)\n",
        "z = add(x, y)\n",
        "print(\"computed result \", z)"
      ]
    },
    {
      "cell_type": "markdown",
      "metadata": {
        "id": "DnypDrIsLQwA"
      },
      "source": [
        "Now lets build the task-graph with dask.delayed function. "
      ]
    },
    {
      "cell_type": "code",
      "execution_count": null,
      "metadata": {
        "id": "vbKjIHl0LQwB"
      },
      "outputs": [],
      "source": [
        "delayed_inc = delayed(inc)\n",
        "delayed_dec = delayed(dec)\n",
        "delayed_add = delayed(add)"
      ]
    },
    {
      "cell_type": "code",
      "execution_count": null,
      "metadata": {
        "id": "em_sgfXeLQwF"
      },
      "outputs": [],
      "source": [
        "x = delayed_inc(1)\n",
        "y = delayed_dec(2)\n",
        "z = delayed_add(x, y)\n",
        "z"
      ]
    },
    {
      "cell_type": "code",
      "execution_count": null,
      "metadata": {
        "id": "sxRXiDxiLQwG"
      },
      "outputs": [],
      "source": [
        "z.visualize(rankdir='LR')"
      ]
    },
    {
      "cell_type": "markdown",
      "metadata": {
        "id": "Gl-m2sb-LQwG"
      },
      "source": [
        "The task-graph shows three tasks. Two of them are independent and they can be executed concurrently. So the total execution time will be two seconds. "
      ]
    },
    {
      "cell_type": "code",
      "execution_count": null,
      "metadata": {
        "id": "u0ebQQ7xLQwH"
      },
      "outputs": [],
      "source": [
        "%%time\n",
        "print(\"computed result \", z.compute())"
      ]
    },
    {
      "cell_type": "markdown",
      "metadata": {
        "id": "NHnxMBuILQwH"
      },
      "source": [
        "## Parallelizing a for loop"
      ]
    },
    {
      "cell_type": "code",
      "execution_count": null,
      "metadata": {
        "id": "ep0NZmO_LQwI"
      },
      "outputs": [],
      "source": [
        "data = list(range(0,10))"
      ]
    },
    {
      "cell_type": "code",
      "execution_count": null,
      "metadata": {
        "id": "EIsqEeK3LQwI"
      },
      "outputs": [],
      "source": [
        "%%time\n",
        "results = []\n",
        "for i in data:\n",
        "    x = inc(i)\n",
        "    y = dec(i)\n",
        "    z = add(x, y)\n",
        "    results.append(z) \n",
        "total = sum(results)\n",
        "print(\"computed result \", total)"
      ]
    },
    {
      "cell_type": "code",
      "execution_count": null,
      "metadata": {
        "id": "8RzCxmflLQwJ"
      },
      "outputs": [],
      "source": [
        "%%time\n",
        "results = []\n",
        "for i in data:\n",
        "    d_x = delayed(inc)(i)\n",
        "    d_y = delayed(dec)(i)\n",
        "    d_z = delayed(add)(d_x, d_y)\n",
        "    results.append(d_z)  \n",
        "total = delayed(sum)(results)\n",
        "print(\"computed result \", total.compute())"
      ]
    },
    {
      "cell_type": "code",
      "execution_count": null,
      "metadata": {
        "id": "BTkaONi6LQwK"
      },
      "outputs": [],
      "source": [
        "total.visualize(rankdir='LR')"
      ]
    },
    {
      "cell_type": "markdown",
      "metadata": {
        "id": "r87SQcs9LQwL"
      },
      "source": [
        "### Dask Scheduler - Threads (Default)"
      ]
    },
    {
      "cell_type": "code",
      "execution_count": null,
      "metadata": {
        "id": "sDwLBDiuLQwN"
      },
      "outputs": [],
      "source": [
        "%%time\n",
        "results = []\n",
        "for i in data:\n",
        "    d_x = delayed(inc)(i)\n",
        "    d_y = delayed(dec)(i)\n",
        "    d_z = delayed(add)(d_x, d_y)\n",
        "    results.append(d_z)\n",
        "    \n",
        "total = delayed(sum)(results)\n",
        "print(\"computed result \", total.compute(scheduler='threads'))"
      ]
    },
    {
      "cell_type": "markdown",
      "metadata": {
        "id": "cF38t63MLQwO"
      },
      "source": [
        "### Dask Scheduler - Processes"
      ]
    },
    {
      "cell_type": "code",
      "execution_count": null,
      "metadata": {
        "id": "hLIJrfs8LQwO"
      },
      "outputs": [],
      "source": [
        "%%time\n",
        "results = []\n",
        "for i in data:\n",
        "    d_x = delayed(inc)(i)\n",
        "    d_y = delayed(dec)(i)\n",
        "    d_z = delayed(add)(d_x, d_y)\n",
        "    results.append(d_z)\n",
        "    \n",
        "total = delayed(sum)(results)\n",
        "print(\"computed result \", total.compute(scheduler='processes'))"
      ]
    },
    {
      "cell_type": "markdown",
      "metadata": {
        "id": "C4nEmv8nLQwP"
      },
      "source": [
        "### Dask Scheduler - single-threaded (for debugging)"
      ]
    },
    {
      "cell_type": "code",
      "execution_count": null,
      "metadata": {
        "id": "htN-C8oGLQwP"
      },
      "outputs": [],
      "source": [
        "%%time\n",
        "\n",
        "results = []\n",
        "for i in data:\n",
        "    d_x = delayed(inc)(i)\n",
        "    d_y = delayed(dec)(i)\n",
        "    d_z = delayed(add)(d_x, d_y)\n",
        "    results.append(d_z)\n",
        "    \n",
        "total = delayed(sum)(results)\n",
        "print(\"computed result \", total.compute(scheduler='single-threaded'))"
      ]
    },
    {
      "cell_type": "markdown",
      "metadata": {
        "id": "7sWfvnleLQwP"
      },
      "source": [
        "### Dask Distributed Scheduler (For scaling)"
      ]
    },
    {
      "cell_type": "code",
      "execution_count": null,
      "metadata": {
        "id": "RtuFOiuILQwQ"
      },
      "outputs": [],
      "source": [
        "from dask.distributed import Client, LocalCluster\n",
        "client = Client(n_workers=2, threads_per_worker=2, memory_limit='4GB')\n",
        "client "
      ]
    },
    {
      "cell_type": "code",
      "execution_count": null,
      "metadata": {
        "id": "DLOPYlEJLQwQ"
      },
      "outputs": [],
      "source": [
        "%%time\n",
        "\n",
        "results = []\n",
        "for i in data:\n",
        "    d_x = delayed(inc)(i)\n",
        "    d_y = delayed(dec)(i)\n",
        "    d_z = delayed(add)(d_x, d_y)\n",
        "    results.append(d_z)\n",
        "    \n",
        "total = delayed(sum)(results)\n",
        "print(\"computed result \", total.compute())"
      ]
    },
    {
      "cell_type": "code",
      "execution_count": null,
      "metadata": {
        "id": "_iTnllGHLQwU"
      },
      "outputs": [],
      "source": [
        "client.shutdown()"
      ]
    },
    {
      "cell_type": "code",
      "execution_count": null,
      "metadata": {
        "id": "fID02tzvLQwW"
      },
      "outputs": [],
      "source": [
        "from dask.distributed import Client, LocalCluster\n",
        "client = Client(n_workers=8, threads_per_worker=2, memory_limit='4GB')\n",
        "client "
      ]
    },
    {
      "cell_type": "code",
      "execution_count": null,
      "metadata": {
        "id": "iSjewf6LLQwW"
      },
      "outputs": [],
      "source": [
        "%%time\n",
        "\n",
        "results = []\n",
        "for i in data:\n",
        "    d_x = delayed(inc)(i)\n",
        "    d_y = delayed(dec)(i)\n",
        "    d_z = delayed(add)(d_x, d_y)\n",
        "    results.append(d_z)\n",
        "    \n",
        "total = delayed(sum)(results)\n",
        "print(\"computed result \", total.compute())"
      ]
    },
    {
      "cell_type": "code",
      "execution_count": null,
      "metadata": {
        "id": "dhSE-CP3LQwW"
      },
      "outputs": [],
      "source": [
        "client.shutdown()"
      ]
    }
  ],
  "metadata": {
    "celltoolbar": "Slideshow",
    "kernelspec": {
      "display_name": "Python 3",
      "language": "python",
      "name": "python3"
    },
    "language_info": {
      "codemirror_mode": {
        "name": "ipython",
        "version": 3
      },
      "file_extension": ".py",
      "mimetype": "text/x-python",
      "name": "python",
      "nbconvert_exporter": "python",
      "pygments_lexer": "ipython3",
      "version": "3.8.6"
    },
    "colab": {
      "provenance": []
    }
  },
  "nbformat": 4,
  "nbformat_minor": 0
}