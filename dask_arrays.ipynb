{
  "cells": [
    {
      "cell_type": "markdown",
      "metadata": {
        "id": "yF3HPqmnPlXN"
      },
      "source": [
        "# Dask Arrays\n",
        "\n",
        "- Distributed numpy-arrays like interface to work with large matrices\n",
        "- Blocked Algorithms which allows operating on small chunks"
      ]
    },
    {
      "cell_type": "markdown",
      "metadata": {
        "id": "vsQiio7ePlXY"
      },
      "source": [
        "### Dask arrays coordinate many numpy arrays\n",
        "<img src = https://raw.github.com/dmbala/python-bigData/main/Figures/dask-array.png width=500 height=200>"
      ]
    },
    {
      "cell_type": "code",
      "execution_count": 5,
      "metadata": {
        "id": "UF4E5e6ZPlXa",
        "outputId": "b5e783f0-8b0a-4d22-fd05-11d735dc6520",
        "colab": {
          "base_uri": "https://localhost:8080/",
          "height": 35
        }
      },
      "outputs": [
        {
          "output_type": "execute_result",
          "data": {
            "text/plain": [
              "'2022.02.0'"
            ],
            "application/vnd.google.colaboratory.intrinsic+json": {
              "type": "string"
            }
          },
          "metadata": {},
          "execution_count": 5
        }
      ],
      "source": [
        "# Importing dask dataframe\n",
        "import dask\n",
        "import dask.array as da\n",
        "dask.__version__"
      ]
    },
    {
      "cell_type": "code",
      "source": [
        "pip install memory_profiler"
      ],
      "metadata": {
        "id": "K3F9I85pQjCo",
        "outputId": "db38217c-cac0-44f8-d34a-646f398cedce",
        "colab": {
          "base_uri": "https://localhost:8080/"
        }
      },
      "execution_count": 6,
      "outputs": [
        {
          "output_type": "stream",
          "name": "stdout",
          "text": [
            "Looking in indexes: https://pypi.org/simple, https://us-python.pkg.dev/colab-wheels/public/simple/\n",
            "Requirement already satisfied: memory_profiler in /usr/local/lib/python3.7/dist-packages (0.61.0)\n",
            "Requirement already satisfied: psutil in /usr/local/lib/python3.7/dist-packages (from memory_profiler) (5.4.8)\n"
          ]
        }
      ]
    },
    {
      "cell_type": "code",
      "execution_count": 7,
      "metadata": {
        "id": "_MjKHuvpPlXe",
        "outputId": "e00ce76d-8ab6-4386-db9c-54462e12427f",
        "colab": {
          "base_uri": "https://localhost:8080/"
        }
      },
      "outputs": [
        {
          "output_type": "stream",
          "name": "stdout",
          "text": [
            "The memory_profiler extension is already loaded. To reload it, use:\n",
            "  %reload_ext memory_profiler\n"
          ]
        }
      ],
      "source": [
        "# Importing numpy and datetime\n",
        "import numpy as np\n",
        "import time\n",
        "%load_ext memory_profiler"
      ]
    },
    {
      "cell_type": "markdown",
      "metadata": {
        "id": "O9zNiDPkPlXf"
      },
      "source": [
        "## Dask vs Numpy Array"
      ]
    },
    {
      "cell_type": "markdown",
      "metadata": {
        "id": "3TCRyzIOPlXg"
      },
      "source": [
        "Create Numpy array and record the memory usage"
      ]
    },
    {
      "cell_type": "code",
      "execution_count": 8,
      "metadata": {
        "id": "BAcuobmePlXh",
        "outputId": "222babc9-f09d-4a82-f7dc-e81564565831",
        "colab": {
          "base_uri": "https://localhost:8080/"
        }
      },
      "outputs": [
        {
          "output_type": "stream",
          "name": "stdout",
          "text": [
            "peak memory: 3179.06 MiB, increment: 0.03 MiB\n",
            "CPU times: user 19.8 s, sys: 1 s, total: 20.8 s\n",
            "Wall time: 22.5 s\n"
          ]
        }
      ],
      "source": [
        "%%time \n",
        "x = np.random.normal(10, 0.1, size=(20000, 20000)) \n",
        "%memit y = x.mean()"
      ]
    },
    {
      "cell_type": "code",
      "execution_count": 9,
      "metadata": {
        "id": "mHL1LLBhPlXi",
        "outputId": "7107031f-1c04-4e96-caa8-eb333a3f0cb2",
        "colab": {
          "base_uri": "https://localhost:8080/"
        }
      },
      "outputs": [
        {
          "output_type": "stream",
          "name": "stdout",
          "text": [
            "peak memory: 3183.18 MiB, increment: 1.40 MiB\n",
            "CPU times: user 26.1 s, sys: 1.09 s, total: 27.2 s\n",
            "Wall time: 19.2 s\n"
          ]
        }
      ],
      "source": [
        "%%time\n",
        "x = da.random.normal(10, 0.1, size=(20000, 20000), chunks=(1000, 1000))\n",
        "y = x.mean()\n",
        "%memit y.compute()"
      ]
    },
    {
      "cell_type": "markdown",
      "metadata": {
        "id": "kxUrs3BBPlXk"
      },
      "source": [
        "## Summary\n",
        "- Dask array requires smaller memory compared to Numpy array\n",
        "- The number of chunks in the dask array controls the required memory"
      ]
    }
  ],
  "metadata": {
    "celltoolbar": "Slideshow",
    "kernelspec": {
      "display_name": "Python 3",
      "language": "python",
      "name": "python3"
    },
    "language_info": {
      "codemirror_mode": {
        "name": "ipython",
        "version": 3
      },
      "file_extension": ".py",
      "mimetype": "text/x-python",
      "name": "python",
      "nbconvert_exporter": "python",
      "pygments_lexer": "ipython3",
      "version": "3.8.6"
    },
    "colab": {
      "provenance": []
    }
  },
  "nbformat": 4,
  "nbformat_minor": 0
}