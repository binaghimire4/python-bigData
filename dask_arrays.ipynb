{
  "cells": [
    {
      "cell_type": "markdown",
      "metadata": {
        "id": "yF3HPqmnPlXN"
      },
      "source": [
        "# Dask Arrays\n",
        "\n",
        "- Distributed numpy-arrays like interface to work with large matrices\n",
        "- Blocked Algorithms which allows operating on small chunks"
      ]
    },
    {
      "cell_type": "markdown",
      "metadata": {
        "id": "vsQiio7ePlXY"
      },
      "source": [
        "### Dask arrays coordinate many numpy arrays\n",
        "<img src = https://raw.github.com/dmbala/python-bigData/main/Figures/dask-array.png width=500 height=200>"
      ]
    },
    {
      "cell_type": "code",
      "execution_count": null,
      "metadata": {
        "id": "UF4E5e6ZPlXa"
      },
      "outputs": [],
      "source": [
        "# Importing dask dataframe\n",
        "import dask\n",
        "import dask.array as da\n",
        "dask.__version__"
      ]
    },
    {
      "cell_type": "code",
      "source": [
        "pip install memory_profiler"
      ],
      "metadata": {
        "id": "K3F9I85pQjCo"
      },
      "execution_count": null,
      "outputs": []
    },
    {
      "cell_type": "code",
      "execution_count": null,
      "metadata": {
        "id": "_MjKHuvpPlXe"
      },
      "outputs": [],
      "source": [
        "# Importing numpy and datetime\n",
        "import numpy as np\n",
        "import time\n",
        "%load_ext memory_profiler"
      ]
    },
    {
      "cell_type": "markdown",
      "metadata": {
        "id": "O9zNiDPkPlXf"
      },
      "source": [
        "## Dask vs Numpy Array"
      ]
    },
    {
      "cell_type": "markdown",
      "metadata": {
        "id": "3TCRyzIOPlXg"
      },
      "source": [
        "Create Numpy array and record the memory usage"
      ]
    },
    {
      "cell_type": "code",
      "execution_count": null,
      "metadata": {
        "id": "BAcuobmePlXh"
      },
      "outputs": [],
      "source": [
        "%%time \n",
        "x = np.random.normal(10, 0.1, size=(20000, 20000)) \n",
        "%memit y = x.mean()"
      ]
    },
    {
      "cell_type": "code",
      "execution_count": null,
      "metadata": {
        "id": "mHL1LLBhPlXi"
      },
      "outputs": [],
      "source": [
        "%%time\n",
        "x = da.random.normal(10, 0.1, size=(20000, 20000), chunks=(1000, 1000))\n",
        "y = x.mean()\n",
        "%memit y.compute()"
      ]
    },
    {
      "cell_type": "markdown",
      "metadata": {
        "id": "kxUrs3BBPlXk"
      },
      "source": [
        "## Summary\n",
        "- Dask array requires smaller memory compared to Numpy array\n",
        "- The number of chunks in the dask array controls the required memory\n",
        "- Many underlying Linear Algebra libraries are multithreaded. To avoid oversubscribing the threads, explicitly define the environment. \n",
        "  - export OMP_NUM_THREADS=1\n",
        "  - export MKL_NUM_THREADS=1\n",
        "  - export OPENBLAS_NUM_THREADS=1"
      ]
    },
    {
      "cell_type": "code",
      "source": [],
      "metadata": {
        "id": "-ofHGppIc28h"
      },
      "execution_count": null,
      "outputs": []
    }
  ],
  "metadata": {
    "celltoolbar": "Slideshow",
    "kernelspec": {
      "display_name": "Python 3",
      "language": "python",
      "name": "python3"
    },
    "language_info": {
      "codemirror_mode": {
        "name": "ipython",
        "version": 3
      },
      "file_extension": ".py",
      "mimetype": "text/x-python",
      "name": "python",
      "nbconvert_exporter": "python",
      "pygments_lexer": "ipython3",
      "version": "3.8.6"
    },
    "colab": {
      "provenance": []
    }
  },
  "nbformat": 4,
  "nbformat_minor": 0
}