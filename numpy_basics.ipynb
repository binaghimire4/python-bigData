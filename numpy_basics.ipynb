{
  "cells": [
    {
      "cell_type": "markdown",
      "metadata": {
        "id": "g4tYlE0UtPW2"
      },
      "source": [
        "# NUMPY (Numerical Python)"
      ]
    },
    {
      "cell_type": "markdown",
      "metadata": {
        "id": "lqN360yHtPW-"
      },
      "source": [
        "- Speed (well optimized c-code)\n",
        "- Interoperable (Supports wide range of hardware and platforms)\n",
        "- Texts, images, sounds,etc., can be represented as vectors and matrices. NumPy offers efficient ways to store and process the data. \n",
        "- Powerful N-Dimensional Arrays (vectorization, indexing, broadcasting. About 50 times faster than python lists.\n",
        "- Numerical computing tools (random number generator, linear algebra, fft, etc.)"
      ]
    },
    {
      "cell_type": "markdown",
      "metadata": {
        "id": "k_uscQjztPW-"
      },
      "source": [
        "## List vs NumPy Array\n",
        "- NumPy arrays are dense and homogenous which are needed for vector operations. \n",
        "- In NumPy array, types are static. Dynamic typing results in overhead to the interpreter. "
      ]
    },
    {
      "cell_type": "markdown",
      "source": [
        "<img src=\"https://raw.githubusercontent.com/dmbala/python-bigData/main/Figures/array_vs_list.png\" width=600 height=400\\>"
      ],
      "metadata": {
        "id": "G_veS0aa0VRs"
      }
    },
    {
      "cell_type": "markdown",
      "metadata": {
        "id": "dA3cJUYBtPW_"
      },
      "source": [
        "**Adding two lists**"
      ]
    },
    {
      "cell_type": "code",
      "execution_count": 1,
      "metadata": {
        "id": "MTC-GFtQtPXA",
        "outputId": "41c894ce-802b-40e0-c889-37144b808bc6",
        "colab": {
          "base_uri": "https://localhost:8080/"
        }
      },
      "outputs": [
        {
          "output_type": "stream",
          "name": "stdout",
          "text": [
            "[1, 2, 3, 1, 1, 1]\n"
          ]
        }
      ],
      "source": [
        "# Adding two lists\n",
        "a = [1, 2, 3]\n",
        "b = [1, 1, 1]\n",
        "print (a + b) "
      ]
    },
    {
      "cell_type": "markdown",
      "metadata": {
        "id": "87i_mLN_tPXC"
      },
      "source": [
        "Two lists cannot be added without a loop. \"+\" joins the lists"
      ]
    },
    {
      "cell_type": "markdown",
      "metadata": {
        "id": "CmY-mGRFtPXC"
      },
      "source": [
        "**Adding two NumPy arrays**"
      ]
    },
    {
      "cell_type": "code",
      "execution_count": 2,
      "metadata": {
        "id": "zvQpefvMtPXD",
        "outputId": "3e9e79f2-2366-4563-8b91-8f645e496b24",
        "colab": {
          "base_uri": "https://localhost:8080/"
        }
      },
      "outputs": [
        {
          "output_type": "stream",
          "name": "stdout",
          "text": [
            "[2 3 4]\n"
          ]
        }
      ],
      "source": [
        "import numpy as np\n",
        "arr_a = np.array([1,2,3])\n",
        "arr_b = np.array([1,1,1])\n",
        "print(arr_a + arr_b)"
      ]
    },
    {
      "cell_type": "markdown",
      "metadata": {
        "id": "r5ol4zDntPXE"
      },
      "source": [
        "Numpy arrays are added without the loop (vectorization)"
      ]
    },
    {
      "cell_type": "markdown",
      "metadata": {
        "id": "83ZEBHsetPXE"
      },
      "source": [
        "## Performance  of  List vs NumPy Array"
      ]
    },
    {
      "cell_type": "markdown",
      "metadata": {
        "id": "MR9fd_xntPXF"
      },
      "source": [
        "**Vector addition from lists**"
      ]
    },
    {
      "cell_type": "code",
      "execution_count": 3,
      "metadata": {
        "id": "b7Bd-5AbtPXF",
        "outputId": "03a30fd0-bff8-4d99-a411-5bd9013b43cc",
        "colab": {
          "base_uri": "https://localhost:8080/"
        }
      },
      "outputs": [
        {
          "output_type": "stream",
          "name": "stdout",
          "text": [
            "1.6 ms ± 384 µs per loop (mean ± std. dev. of 7 runs, 100 loops each)\n"
          ]
        }
      ],
      "source": [
        "# Add two lists\n",
        "def add_two_vectors(x, y):\n",
        "    z = []\n",
        "    for i, j in zip(x, y):\n",
        "        z.append(i + j)\n",
        "    return z\n",
        "\n",
        "a = range(10000)\n",
        "b = range(10000)\n",
        "\n",
        "t_p = %timeit -o add_two_vectors(a,b)"
      ]
    },
    {
      "cell_type": "markdown",
      "metadata": {
        "id": "X7nVD_GitPXG"
      },
      "source": [
        "**Vector addition from NumPy arrays**"
      ]
    },
    {
      "cell_type": "code",
      "execution_count": 4,
      "metadata": {
        "id": "tUjybTe1tPXG",
        "outputId": "78132dcc-324c-4058-b828-f332b6740141",
        "colab": {
          "base_uri": "https://localhost:8080/"
        }
      },
      "outputs": [
        {
          "output_type": "stream",
          "name": "stdout",
          "text": [
            "7.26 µs ± 1.83 µs per loop (mean ± std. dev. of 7 runs, 100000 loops each)\n"
          ]
        }
      ],
      "source": [
        "# Add two NumPy arrays\n",
        "xa = np.array(a)\n",
        "xb = np.array(b)\n",
        "t_n = %timeit -o np.add(xa, xb) # Vector addition of two arrays"
      ]
    },
    {
      "cell_type": "markdown",
      "metadata": {
        "id": "QdeESX74tPXG"
      },
      "source": [
        "About 100x speedup with Numpy vectorization"
      ]
    },
    {
      "cell_type": "code",
      "execution_count": 5,
      "metadata": {
        "id": "6q6SzRqZtPXH",
        "outputId": "ac7f7143-9d85-4592-c3d7-781852738799",
        "colab": {
          "base_uri": "https://localhost:8080/"
        }
      },
      "outputs": [
        {
          "output_type": "execute_result",
          "data": {
            "text/plain": [
              "219.05715654598833"
            ]
          },
          "metadata": {},
          "execution_count": 5
        }
      ],
      "source": [
        "\n",
        "abs(t_p.average - t_n.average)/abs(t_n.average)"
      ]
    },
    {
      "cell_type": "markdown",
      "metadata": {
        "id": "-2V-6D-HtPXH"
      },
      "source": [
        "[From Intel Website](https://software.intel.com/content/www/us/en/develop/articles/vectorization-a-key-tool-to-improve-performance-on-modern-cpus.html)\n",
        "\n",
        "Why Vectorise?\n",
        "\n",
        "Vectorization is the process of converting an algorithm from operating on a single value at a time to operating on a set of values (vector) at one time. Modern CPUs provide direct support for vector operations where a single instruction is applied to multiple data (SIMD). For example, a CPU with a 512 bit register could hold 16 32- bit single precision doubles and do a single calculation.\n",
        "\n",
        "16 times faster than executing a single instruction at a time. Combine this with threading and multi-core CPUs leads to orders of magnitude performance gains."
      ]
    },
    {
      "cell_type": "markdown",
      "metadata": {
        "id": "G9l1_ktFtPXI"
      },
      "source": [
        "## NumPy's Universal Functions (ufuncs)\n",
        "- Universal functions (ufuncs) are fast since they use vectorized operations. \n",
        "- ufuncs work with ndarray object.\n",
        "- ufuncs can operate one or two inputs. "
      ]
    },
    {
      "cell_type": "markdown",
      "metadata": {
        "id": "EcDjPiRmtPXI"
      },
      "source": [
        "### Example: Finding the inverse of a vector"
      ]
    },
    {
      "cell_type": "markdown",
      "metadata": {
        "id": "Tt6szspLtPXI"
      },
      "source": [
        "### NumPy's vector approach"
      ]
    },
    {
      "cell_type": "code",
      "execution_count": 6,
      "metadata": {
        "id": "q4q3CfgxtPXJ",
        "outputId": "48302c91-7e7a-4e40-d3e5-7e22e921a3d5",
        "colab": {
          "base_uri": "https://localhost:8080/"
        }
      },
      "outputs": [
        {
          "output_type": "stream",
          "name": "stdout",
          "text": [
            "Using UFUNCS\n",
            "235 µs ± 8.3 µs per loop (mean ± std. dev. of 7 runs, 1000 loops each)\n"
          ]
        }
      ],
      "source": [
        "big_list = range(1,100000)\n",
        "big_array = np.array(big_list)\n",
        "print(\"Using UFUNCS\")\n",
        "t_n = %timeit -o np.divide(1.0,big_array) #  you can do 1.0/big_array"
      ]
    },
    {
      "cell_type": "markdown",
      "metadata": {
        "id": "97XPgrDktPXJ"
      },
      "source": [
        "### Using Pure Python with a loop"
      ]
    },
    {
      "cell_type": "code",
      "execution_count": 7,
      "metadata": {
        "id": "Z6DlvARqtPXJ",
        "outputId": "a05ef4d4-9c5f-4747-f7e4-5a0415b8e1d9",
        "colab": {
          "base_uri": "https://localhost:8080/"
        }
      },
      "outputs": [
        {
          "output_type": "stream",
          "name": "stdout",
          "text": [
            "Using a loop\n",
            "22.8 ms ± 1.1 ms per loop (mean ± std. dev. of 7 runs, 10 loops each)\n"
          ]
        }
      ],
      "source": [
        "# Lets write a function to compute the inverse of a vector\n",
        "def compute_reciprocal_vector(input_vector):\n",
        "    output_vector = []\n",
        "    for i in range(len(input_vector)):\n",
        "        output_vector.append(1.0/input_vector[i])\n",
        "    return output_vector\n",
        "\n",
        "print (\"Using a loop\")\n",
        "t_p = %timeit -o compute_reciprocal_vector(big_list)"
      ]
    },
    {
      "cell_type": "markdown",
      "metadata": {
        "id": "wjD6_HrMtPXK"
      },
      "source": [
        "#### Speed-up "
      ]
    },
    {
      "cell_type": "code",
      "execution_count": 8,
      "metadata": {
        "id": "QPLy0RWYtPXK",
        "outputId": "fadd64d2-aee8-4051-8da7-84c738403524",
        "colab": {
          "base_uri": "https://localhost:8080/"
        }
      },
      "outputs": [
        {
          "output_type": "execute_result",
          "data": {
            "text/plain": [
              "96.34555184333729"
            ]
          },
          "metadata": {},
          "execution_count": 8
        }
      ],
      "source": [
        "#Speed-up \n",
        "abs(t_p.average - t_n.average)/abs(t_n.average)"
      ]
    },
    {
      "cell_type": "markdown",
      "metadata": {
        "id": "exHgcPOStPXK"
      },
      "source": [
        "### Exponents and Logarithms"
      ]
    },
    {
      "cell_type": "code",
      "execution_count": 9,
      "metadata": {
        "id": "mc4fNDt_tPXK",
        "outputId": "9188c6a5-1ca4-4fdc-a7b0-5eb3fbe88e1f",
        "colab": {
          "base_uri": "https://localhost:8080/"
        }
      },
      "outputs": [
        {
          "output_type": "stream",
          "name": "stdout",
          "text": [
            "x     = [1 2 3]\n",
            "e^x   = [ 2.71828183  7.3890561  20.08553692]\n",
            "2^x   = [2. 4. 8.]\n",
            "3^x   = [ 3  9 27]\n",
            "x        = [1 2 3]\n",
            "ln(x)    = [0.         0.69314718 1.09861229]\n",
            "log2(x)  = [0.        1.        1.5849625]\n",
            "log10(x) = [0.         0.30103    0.47712125]\n"
          ]
        }
      ],
      "source": [
        "x = np.arange(1,4,1)\n",
        "print(\"x     =\", x)\n",
        "print(\"e^x   =\", np.exp(x))\n",
        "print(\"2^x   =\", np.exp2(x))\n",
        "print(\"3^x   =\", np.power(3, x))\n",
        "\n",
        "print(\"x        =\", x)\n",
        "print(\"ln(x)    =\", np.log(x))\n",
        "print(\"log2(x)  =\", np.log2(x))\n",
        "print(\"log10(x) =\", np.log10(x))"
      ]
    },
    {
      "cell_type": "markdown",
      "metadata": {
        "id": "WDNpfhlMtPXL"
      },
      "source": [
        "### Aggregates - max, min, reduce"
      ]
    },
    {
      "cell_type": "code",
      "execution_count": 10,
      "metadata": {
        "id": "XLKS4PdatPXL",
        "outputId": "2167c2da-4954-4471-8c4c-d8088489360c",
        "colab": {
          "base_uri": "https://localhost:8080/"
        }
      },
      "outputs": [
        {
          "output_type": "stream",
          "name": "stdout",
          "text": [
            "x =  [1 2 3 4]\n",
            "np.add.reduce (x) =  10\n",
            "np.add.accumulate(x) =  [ 1  3  6 10]\n",
            "np.min(x) =  1\n",
            "np.max(x) =  4\n",
            "np.mean(x) =  2.5\n"
          ]
        }
      ],
      "source": [
        "x = np.arange(1, 5)\n",
        "print(\"x = \", x)\n",
        "print(\"np.add.reduce (x) = \", np.add.reduce(x))\n",
        "print(\"np.add.accumulate(x) = \", np.add.accumulate(x))\n",
        "print(\"np.min(x) = \", np.min(x))\n",
        "print(\"np.max(x) = \", np.max(x))\n",
        "print(\"np.mean(x) = \", np.mean(x))"
      ]
    },
    {
      "cell_type": "markdown",
      "metadata": {
        "id": "pkRnVtQvtPXL"
      },
      "source": [
        "## Linear Algebra"
      ]
    },
    {
      "cell_type": "code",
      "execution_count": 11,
      "metadata": {
        "id": "G2vcZD8BtPXL",
        "outputId": "fd18f2e6-0ac3-4609-c901-728c3b4c51aa",
        "colab": {
          "base_uri": "https://localhost:8080/"
        }
      },
      "outputs": [
        {
          "output_type": "stream",
          "name": "stdout",
          "text": [
            "Rank of A =  100\n",
            "Trace of A =  5.7148443662946855\n",
            "Determinant of A =  9.136842130972527e+77\n",
            "Inverse of A =  [[ 0.53782895  0.21089866  0.33299975 ... -0.56490158  0.0889347\n",
            "  -0.155468  ]\n",
            " [ 0.50172965  0.19581583  0.3228412  ... -0.53445473  0.10105078\n",
            "  -0.28305975]\n",
            " [-0.35079895 -0.09771821 -0.25998522 ...  0.35421451 -0.04614552\n",
            "   0.0731679 ]\n",
            " ...\n",
            " [-0.0826472  -0.0693781  -0.07807389 ...  0.17985341 -0.02744848\n",
            "   0.00961055]\n",
            " [ 0.36380397  0.09885028  0.22782004 ... -0.340146    0.07537599\n",
            "  -0.0923575 ]\n",
            " [-0.04209063 -0.03674481  0.0048925  ...  0.03956562  0.00420089\n",
            "   0.12092309]]\n",
            "Matrix A raised to power 3 = [[ 2.39723207e-02  1.73909789e+02  7.98094752e+01 ...  1.00129372e+02\n",
            "  -1.56088728e+01 -1.01375031e+02]\n",
            " [ 1.85587091e+02  8.03205467e+01  1.09493123e+02 ...  9.04755795e+01\n",
            "  -1.76884810e+02 -3.95803025e+01]\n",
            " [ 7.75616476e+01 -7.90002069e+01 -6.92236822e+01 ...  2.11793886e+02\n",
            "  -8.21832635e+01 -5.14819135e+01]\n",
            " ...\n",
            " [-8.68965091e+00 -3.67466484e+01 -4.16614756e+01 ... -7.32778434e+01\n",
            "   5.99426850e+00 -1.53169440e+01]\n",
            " [ 7.07755492e+01  3.36686200e+01  1.82951691e+02 ... -1.35048985e+02\n",
            "   8.94380795e+01  2.70560008e+01]\n",
            " [ 3.98585661e+01  9.87188977e+00 -3.51680760e+01 ...  5.11917510e+01\n",
            "  -3.10157332e+01  5.37464337e+01]]\n",
            "Eigenvalues of A =  (array([  9.66161794+4.42553601j,   9.66161794-4.42553601j,\n",
            "       -10.47798861+0.j        ,   6.73937608+7.59263753j,\n",
            "         6.73937608-7.59263753j,   9.49223282+0.j        ,\n",
            "         8.88922128+1.41718673j,   8.88922128-1.41718673j,\n",
            "         7.23568367+5.19321124j,   7.23568367-5.19321124j,\n",
            "         2.09457088+9.22733253j,   2.09457088-9.22733253j,\n",
            "        -7.42773269+6.12810907j,  -7.42773269-6.12810907j,\n",
            "         7.75338154+3.91497621j,   7.75338154-3.91497621j,\n",
            "         3.55965961+8.4253541j ,   3.55965961-8.4253541j ,\n",
            "        -2.66922155+8.97828677j,  -2.66922155-8.97828677j,\n",
            "        -7.35266698+5.02287103j,  -7.35266698-5.02287103j,\n",
            "        -4.23069254+7.85397489j,  -4.23069254-7.85397489j,\n",
            "         4.68479258+6.88892815j,   4.68479258-6.88892815j,\n",
            "         2.64418563+8.05328326j,   2.64418563-8.05328326j,\n",
            "        -1.13368108+8.6532525j ,  -1.13368108-8.6532525j ,\n",
            "        -4.9390599 +7.05405322j,  -4.9390599 -7.05405322j,\n",
            "        -8.730419  +0.19852111j,  -8.730419  -0.19852111j,\n",
            "        -1.32480044+8.08085981j,  -1.32480044-8.08085981j,\n",
            "         2.59112323+6.88167566j,   2.59112323-6.88167566j,\n",
            "        -2.88139923+7.39616859j,  -2.88139923-7.39616859j,\n",
            "        -5.73836804+5.18025403j,  -5.73836804-5.18025403j,\n",
            "         6.32814129+2.53454276j,   6.32814129-2.53454276j,\n",
            "         5.12108877+4.55496415j,   5.12108877-4.55496415j,\n",
            "        -6.67548464+3.12915209j,  -6.67548464-3.12915209j,\n",
            "         6.65262879+0.j        ,  -7.01653032+1.47607997j,\n",
            "        -7.01653032-1.47607997j,   5.58709438+3.13400193j,\n",
            "         5.58709438-3.13400193j,  -6.32504887+2.41660357j,\n",
            "        -6.32504887-2.41660357j,   3.80078844+4.89085213j,\n",
            "         3.80078844-4.89085213j,   5.88391674+0.j        ,\n",
            "        -3.55795358+5.72002183j,  -3.55795358-5.72002183j,\n",
            "        -1.97391039+6.36881149j,  -1.97391039-6.36881149j,\n",
            "         0.99941034+6.30569093j,   0.99941034-6.30569093j,\n",
            "        -5.98933432+0.j        ,   5.26227648+0.j        ,\n",
            "         4.51253746+1.74373147j,   4.51253746-1.74373147j,\n",
            "        -4.79551996+2.50966715j,  -4.79551996-2.50966715j,\n",
            "        -3.14708836+5.01763909j,  -3.14708836-5.01763909j,\n",
            "        -4.83444514+1.54766314j,  -4.83444514-1.54766314j,\n",
            "         3.67090451+2.75163204j,   3.67090451-2.75163204j,\n",
            "         3.48542546+0.j        ,   0.88785374+4.89042121j,\n",
            "         0.88785374-4.89042121j,  -1.10362115+5.09964373j,\n",
            "        -1.10362115-5.09964373j,  -2.57307259+4.48707214j,\n",
            "        -2.57307259-4.48707214j,   1.80429184+4.06979088j,\n",
            "         1.80429184-4.06979088j,  -3.35206536+0.28762094j,\n",
            "        -3.35206536-0.28762094j,   2.43637936+1.02556874j,\n",
            "         2.43637936-1.02556874j,  -2.13210642+0.j        ,\n",
            "        -0.1837959 +3.05322595j,  -0.1837959 -3.05322595j,\n",
            "        -1.50125842+2.09638405j,  -1.50125842-2.09638405j,\n",
            "         0.28020384+0.95395137j,   0.28020384-0.95395137j,\n",
            "        -0.83742742+3.21392318j,  -0.83742742-3.21392318j,\n",
            "         1.12832559+0.j        ,  -1.54461789+0.j        ]), array([[ 0.13640984-0.10130728j,  0.13640984+0.10130728j,\n",
            "        -0.17640636+0.j        , ...,  0.0434976 +0.02474999j,\n",
            "        -0.07978831+0.j        , -0.01041266+0.j        ],\n",
            "       [ 0.00473273-0.02484884j,  0.00473273+0.02484884j,\n",
            "         0.04895475+0.j        , ...,  0.08400269+0.13598274j,\n",
            "         0.11888931+0.j        ,  0.1417322 +0.j        ],\n",
            "       [-0.01584684-0.05599396j, -0.01584684+0.05599396j,\n",
            "         0.15124822+0.j        , ...,  0.02757605-0.069467j  ,\n",
            "         0.10624375+0.j        , -0.11300029+0.j        ],\n",
            "       ...,\n",
            "       [ 0.13985547-0.00965812j,  0.13985547+0.00965812j,\n",
            "        -0.12749161+0.j        , ...,  0.00946947-0.08168359j,\n",
            "         0.06266215+0.j        , -0.01205261+0.j        ],\n",
            "       [ 0.01874574+0.00076952j,  0.01874574-0.00076952j,\n",
            "        -0.01917815+0.j        , ...,  0.0123013 -0.0081429j ,\n",
            "         0.00078413+0.j        ,  0.0613277 +0.j        ],\n",
            "       [-0.04437871-0.00704526j, -0.04437871+0.00704526j,\n",
            "         0.01017197+0.j        , ..., -0.05721048-0.14907964j,\n",
            "        -0.1921417 +0.j        , -0.01140764+0.j        ]]))\n"
          ]
        }
      ],
      "source": [
        "A = np.random.normal(size=(100,100))\n",
        "print(\"Rank of A = \", np.linalg.matrix_rank(A))\n",
        "print(\"Trace of A = \", np.trace(A))\n",
        "print(\"Determinant of A = \", np.linalg.det(A))\n",
        "print(\"Inverse of A = \", np.linalg.inv(A))\n",
        "print(\"Matrix A raised to power 3 =\", np.linalg.matrix_power(A, 3))\n",
        "print(\"Eigenvalues of A = \", np.linalg.eig(A))"
      ]
    },
    {
      "cell_type": "markdown",
      "metadata": {
        "id": "xRr-QAjCtPXM"
      },
      "source": [
        "## Summary\n",
        "- Ndarray is efficient way to store and process dense arrays\n",
        "- The elements in Ndarray are accessed by index\n",
        "- Universal functions do vectorized operations"
      ]
    },
    {
      "cell_type": "markdown",
      "metadata": {
        "id": "RoDFZfnXtPXM"
      },
      "source": [
        "---\n",
        "## Question\n",
        "\n",
        "What if you have operations that are not vectorized in Numpy. \n",
        "---\n"
      ]
    },
    {
      "cell_type": "code",
      "execution_count": 11,
      "metadata": {
        "id": "D_NxfueHtPXM"
      },
      "outputs": [],
      "source": []
    }
  ],
  "metadata": {
    "celltoolbar": "Slideshow",
    "kernelspec": {
      "display_name": "Python 3",
      "language": "python",
      "name": "python3"
    },
    "language_info": {
      "codemirror_mode": {
        "name": "ipython",
        "version": 3
      },
      "file_extension": ".py",
      "mimetype": "text/x-python",
      "name": "python",
      "nbconvert_exporter": "python",
      "pygments_lexer": "ipython3",
      "version": "3.8.6"
    },
    "colab": {
      "provenance": []
    }
  },
  "nbformat": 4,
  "nbformat_minor": 0
}